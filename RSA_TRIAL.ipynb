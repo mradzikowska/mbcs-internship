{
  "nbformat": 4,
  "nbformat_minor": 0,
  "metadata": {
    "colab": {
      "name": "RSA TRIAL.ipynb",
      "provenance": [],
      "collapsed_sections": [],
      "authorship_tag": "ABX9TyP8xVZUGZLuhvuGUeRdD2Xu",
      "include_colab_link": true
    },
    "kernelspec": {
      "display_name": "Python 3",
      "name": "python3"
    },
    "language_info": {
      "name": "python"
    }
  },
  "cells": [
    {
      "cell_type": "markdown",
      "metadata": {
        "id": "view-in-github",
        "colab_type": "text"
      },
      "source": [
        "<a href=\"https://colab.research.google.com/github/mradzikowska/mbcs-internship/blob/main/RSA_TRIAL.ipynb\" target=\"_parent\"><img src=\"https://colab.research.google.com/assets/colab-badge.svg\" alt=\"Open In Colab\"/></a>"
      ]
    },
    {
      "cell_type": "markdown",
      "metadata": {
        "id": "7ckqTcs1JfqD"
      },
      "source": [
        "**1. IMPORTS & DATA**"
      ]
    },
    {
      "cell_type": "code",
      "metadata": {
        "id": "Lwcz59QvUp6-"
      },
      "source": [
        "#@title Imports\n",
        "import numpy as np\n",
        "import pandas as pd\n",
        "from scipy import stats \n",
        "from scipy import corrcoef\n",
        "from scipy.spatial.distance import cosine, euclidean, pdist, squareform\n",
        "from sklearn.metrics import pairwise_distances\n",
        "from scipy.stats import spearmanr\n",
        "\n",
        "\n"
      ],
      "execution_count": 31,
      "outputs": []
    },
    {
      "cell_type": "code",
      "metadata": {
        "id": "CdhauNV0Wo1V"
      },
      "source": [
        "#@title Random Data creation\n",
        "data_one = np.random.rand(10,50)\n",
        "data_two = np.random.rand (10,50)\n",
        "data_three = np.random.rand (10,50)\n",
        "data_four = np.random.randint (20, size = (10,100))\n",
        "data_five = np.random.randint (20, size = (10,100))\n",
        "\n",
        "mock_data = [data_one, data_two, data_three]\n",
        "mock_data_two = np.random.randint (20, size = (10,100))\n",
        "mock_data_three = [data_one, mock_data_two]\n",
        "mock_data_four = [data_one, data_two, data_three, mock_data_two]\n",
        "mock_data_2 = [mock_data_two,data_four,data_five]"
      ],
      "execution_count": 2,
      "outputs": []
    },
    {
      "cell_type": "code",
      "metadata": {
        "colab": {
          "base_uri": "https://localhost:8080/"
        },
        "id": "opEVVOjjuKXI",
        "outputId": "b1c50530-bc7c-4737-b4cb-ce339e7dd130"
      },
      "source": [
        "#@title Inspect data\n",
        "n_conditions = data_one.shape [0]\n",
        "n_measurements_p_condition = data_one.shape [1]\n",
        "n_samples = len(mock_data)\n",
        "\n",
        "print ('Mock data simulates', n_measurements_p_condition, 'measurements for', n_conditions, 'conditions for', n_samples, 'subjects')"
      ],
      "execution_count": null,
      "outputs": [
        {
          "output_type": "stream",
          "text": [
            "Mock data simulates 50 measurements for 10 conditions for 3 subjects\n"
          ],
          "name": "stdout"
        }
      ]
    },
    {
      "cell_type": "markdown",
      "metadata": {
        "id": "jouJiKXVJp2f"
      },
      "source": [
        "**2.REPRESENTATIONAL SIMILARITY ANALYSIS**"
      ]
    },
    {
      "cell_type": "code",
      "metadata": {
        "id": "pPgeqyk003I2"
      },
      "source": [
        "def dot_product_rsa(reps1, reps2):\n",
        "  \"\"\"Compute representational similarity between two sets of representations.\n",
        "\n",
        "  Args:\n",
        "    reps1: float array; [num_examples, feature_size1]\n",
        "    reps2: float array; [num_examples, feature_size2]\n",
        "  \"\"\"\n",
        "  assert reps1.shape[0] == reps2.shape[0], 'First dimensions of inputs should match.'\n",
        "\n",
        "  # Normalize input representations #Cosine similarity = dot product for normalized vectors\n",
        "  reps1 = reps1 / np.linalg.norm(reps1, axis=-1)[...,None]\n",
        "  reps2 = reps2 / np.linalg.norm(reps2, axis=-1)[...,None]\n",
        "\n",
        "  # Compute and normalize similarity matrices:\n",
        "  similarities1 = reps1.dot(reps1.T) # instead of dot product you can use any similarity measure\n",
        "  similarities2 = reps2.dot(reps2.T)\n",
        "  similarities1 = similarities1 / np.linalg.norm(similarities1, axis=-1)[...,None]\n",
        "  similarities2 = similarities2 / np.linalg.norm(similarities2, axis=-1)[...,None]\n",
        "\n",
        "  # Here you can do pearson-r instead of this (or again any measure of similarity).\n",
        "  similarity_of_similarity = np.sum(similarities1 * similarities2, axis=-1)\n",
        "  return np.mean(similarity_of_similarity)"
      ],
      "execution_count": 3,
      "outputs": []
    },
    {
      "cell_type": "code",
      "metadata": {
        "id": "QWa2CjELB5fl"
      },
      "source": [
        "def dot_product_rsa_for_lists_of_reps(reps):\n",
        "  \"\"\"Compute representational similarity between two sets of representations.\n",
        "\n",
        "  Args:\n",
        "    reps: list of float arrays; List of arrrays with shape [num_examples, feature_size]\n",
        "      (feature size can be different for each item in the list).\n",
        "  \"\"\"\n",
        "  norm_reps = []\n",
        "  for rep in reps:\n",
        "  # Normalize input representations\n",
        "    norm_reps.append(rep / np.linalg.norm(rep, axis=-1)[...,None])\n",
        "\n",
        "  # Compute and normalize similarity matrices:\n",
        "  similarity_matrices = []\n",
        "  for rep in norm_reps:\n",
        "    similarities = rep.dot(rep.T) # instead of dot product you can use any similarity measure\n",
        "    similarities = similarities / np.linalg.norm(similarities, axis=-1)[...,None]\n",
        "    similarity_matrices.append(similarities)\n",
        "\n",
        "  # Shape of similarity_matrices: [num_of_rep_spaces, num_examples, num_examples]\n",
        "  similarity_matrices = np.asarray(similarity_matrices) \n",
        "  sim_of_sim_mat = np.zeros((similarity_matrices.shape[0], \n",
        "                              similarity_matrices.shape[0]))\n",
        "  for i in np.arange(sim_of_sim_mat.shape[0]):\n",
        "    for j in np.arange(sim_of_sim_mat.shape[1]):\n",
        "      # Here you can do pearson-r instead of this (or again any measure of similarity).\n",
        "      similarity_of_similarity = np.sum(\n",
        "          similarity_matrices[i] * similarity_matrices[j], axis=-1)\n",
        "      similarity_score = np.mean(similarity_of_similarity)\n",
        "      sim_of_sim_mat[i][j] = similarity_score\n",
        "  return sim_of_sim_mat"
      ],
      "execution_count": 4,
      "outputs": []
    },
    {
      "cell_type": "code",
      "metadata": {
        "id": "orPAZV5Wipgi"
      },
      "source": [
        "def pearson_rsa(reps1, reps2):\n",
        "  \"\"\"Compute representational similarity between two sets of representations.\n",
        "\n",
        "  Args:\n",
        "    reps1: float array; [num_examples, feature_size1]\n",
        "    reps2: float array; [num_examples, feature_size2]\n",
        "  \"\"\"\n",
        "  assert reps1.shape[0] == reps2.shape[0], 'First dimensions of inputs should match.'\n",
        "\n",
        "  # Normalize input representations\n",
        "  reps1 = reps1 / np.linalg.norm(reps1, axis=-1)[...,None]\n",
        "  reps2 = reps2 / np.linalg.norm(reps2, axis=-1)[...,None]\n",
        "\n",
        "  # Compute and normalize similarity matrices:\n",
        "  similarities1 = reps1.dot(reps1.T) # instead of dot product you can use any similarity measure\n",
        "  similarities2 = reps2.dot(reps2.T)\n",
        "  similarities1 = similarities1 / np.linalg.norm(similarities1, axis=-1)[...,None]\n",
        "  similarities2 = similarities2 / np.linalg.norm(similarities2, axis=-1)[...,None]\n",
        "\n",
        "  # Here you can do pearson-r instead of this (or again any measure of similarity).\n",
        "  correlation_of_similarities = [stats.pearsonr(x,y)[0] for x,y in zip(similarities1,similarities2)]\n",
        "  return np.mean(correlation_of_similarities)"
      ],
      "execution_count": 5,
      "outputs": []
    },
    {
      "cell_type": "code",
      "metadata": {
        "id": "Ywx-azqL--2k"
      },
      "source": [
        "def pearson_rsa_for_lists_of_reps(reps):\n",
        "  \"\"\"Compute representational similarity between two sets of representations.\n",
        "\n",
        "  Args:\n",
        "    reps: list of float arrays; List of arrrays with shape [num_examples, feature_size]\n",
        "      (feature size can be different for each item in the list).\n",
        "  \"\"\"\n",
        "  norm_reps = []\n",
        "  for rep in reps:\n",
        "  # Normalize input representations\n",
        "    norm_reps.append(rep / np.linalg.norm(rep, axis=-1)[...,None])\n",
        "\n",
        "  # Compute and normalize similarity matrices:\n",
        "  similarity_matrices = []\n",
        "  for rep in norm_reps:\n",
        "    similarities = rep.dot(rep.T) # instead of dot product you can use any similarity measure\n",
        "    similarities = similarities / np.linalg.norm(similarities, axis=-1)[...,None]\n",
        "    similarity_matrices.append(similarities)\n",
        "\n",
        "  # Shape of similarity_matrices: [num_of_rep_spaces, num_examples, num_examples]\n",
        "  similarity_matrices = np.asarray(similarity_matrices) \n",
        "  sim_of_sim_mat = np.zeros((similarity_matrices.shape[0], \n",
        "                              similarity_matrices.shape[0]))\n",
        "  for i in np.arange(sim_of_sim_mat.shape[0]):\n",
        "    for j in np.arange(sim_of_sim_mat.shape[1]):\n",
        "      # Here you can do pearson-r instead of this (or again any measure of similarity).\n",
        "      correlation_of_similarities = [stats.pearsonr (a,b) [0] for a, b in zip (similarity_matrices [i], similarity_matrices [j])]\n",
        "      similarity_score = np.mean(correlation_of_similarities)\n",
        "      sim_of_sim_mat[i][j] = similarity_score\n",
        "  return sim_of_sim_mat"
      ],
      "execution_count": 6,
      "outputs": []
    },
    {
      "cell_type": "code",
      "metadata": {
        "colab": {
          "base_uri": "https://localhost:8080/"
        },
        "id": "QMJWb6rz1lR3",
        "outputId": "4e644f23-e316-4fb1-b48d-66ed01bfaef5"
      },
      "source": [
        "dot_product_rsa (data_one, data_one)"
      ],
      "execution_count": null,
      "outputs": [
        {
          "output_type": "execute_result",
          "data": {
            "text/plain": [
              "1.0"
            ]
          },
          "metadata": {
            "tags": []
          },
          "execution_count": 8
        }
      ]
    },
    {
      "cell_type": "code",
      "metadata": {
        "colab": {
          "base_uri": "https://localhost:8080/"
        },
        "id": "3o_rVICU6PZa",
        "outputId": "52ebe16a-c6df-4227-ce7d-261a2bdde79c"
      },
      "source": [
        "dot_product_rsa (data_one, data_two)"
      ],
      "execution_count": null,
      "outputs": [
        {
          "output_type": "execute_result",
          "data": {
            "text/plain": [
              "0.9981748252202494"
            ]
          },
          "metadata": {
            "tags": []
          },
          "execution_count": 9
        }
      ]
    },
    {
      "cell_type": "code",
      "metadata": {
        "colab": {
          "base_uri": "https://localhost:8080/"
        },
        "id": "3GISkI0g41v3",
        "outputId": "e938ac21-ae76-4f8e-b0f6-4af2c9d66e43"
      },
      "source": [
        "pearson_rsa (data_one, data_one)"
      ],
      "execution_count": null,
      "outputs": [
        {
          "output_type": "execute_result",
          "data": {
            "text/plain": [
              "1.0"
            ]
          },
          "metadata": {
            "tags": []
          },
          "execution_count": 10
        }
      ]
    },
    {
      "cell_type": "code",
      "metadata": {
        "colab": {
          "base_uri": "https://localhost:8080/"
        },
        "id": "A6wfqg7b6cde",
        "outputId": "f2336976-dba8-4fed-a9de-7a8592daf1db"
      },
      "source": [
        "pearson_rsa (data_one, data_two)"
      ],
      "execution_count": null,
      "outputs": [
        {
          "output_type": "execute_result",
          "data": {
            "text/plain": [
              "0.8616580349063098"
            ]
          },
          "metadata": {
            "tags": []
          },
          "execution_count": 11
        }
      ]
    },
    {
      "cell_type": "code",
      "metadata": {
        "colab": {
          "base_uri": "https://localhost:8080/"
        },
        "id": "jUuJ9r4r59pq",
        "outputId": "b105fd36-2dff-4aed-bca0-a0cf713cd4ea"
      },
      "source": [
        "dot_product_rsa_for_lists_of_reps (mock_data)"
      ],
      "execution_count": null,
      "outputs": [
        {
          "output_type": "execute_result",
          "data": {
            "text/plain": [
              "array([[1.        , 0.99817483, 0.99755296],\n",
              "       [0.99817483, 1.        , 0.99829537],\n",
              "       [0.99755296, 0.99829537, 1.        ]])"
            ]
          },
          "metadata": {
            "tags": []
          },
          "execution_count": 12
        }
      ]
    },
    {
      "cell_type": "code",
      "metadata": {
        "colab": {
          "base_uri": "https://localhost:8080/"
        },
        "id": "LkXW_URn5-su",
        "outputId": "7e322f07-9721-438e-bad3-e5c6431df6f5"
      },
      "source": [
        "pearson_rsa_for_lists_of_reps (mock_data)"
      ],
      "execution_count": null,
      "outputs": [
        {
          "output_type": "execute_result",
          "data": {
            "text/plain": [
              "array([[1.        , 0.86165803, 0.80178295],\n",
              "       [0.86165803, 1.        , 0.85881318],\n",
              "       [0.80178295, 0.85881318, 1.        ]])"
            ]
          },
          "metadata": {
            "tags": []
          },
          "execution_count": 23
        }
      ]
    },
    {
      "cell_type": "code",
      "metadata": {
        "colab": {
          "base_uri": "https://localhost:8080/"
        },
        "id": "4lE6zXdkICrL",
        "outputId": "205da524-d8c5-4e35-cb3b-8f76418a70c3"
      },
      "source": [
        "dot_product_rsa_for_lists_of_reps (mock_data_three)"
      ],
      "execution_count": null,
      "outputs": [
        {
          "output_type": "execute_result",
          "data": {
            "text/plain": [
              "array([[1.        , 0.99818164],\n",
              "       [0.99818164, 1.        ]])"
            ]
          },
          "metadata": {
            "tags": []
          },
          "execution_count": 14
        }
      ]
    },
    {
      "cell_type": "code",
      "metadata": {
        "colab": {
          "base_uri": "https://localhost:8080/"
        },
        "id": "n2m5LdFIHs9K",
        "outputId": "2ac4a631-71e8-41ce-c1c8-09a12b967e17"
      },
      "source": [
        "pearson_rsa_for_lists_of_reps (mock_data_three)"
      ],
      "execution_count": null,
      "outputs": [
        {
          "output_type": "execute_result",
          "data": {
            "text/plain": [
              "array([[1.        , 0.85644449],\n",
              "       [0.85644449, 1.        ]])"
            ]
          },
          "metadata": {
            "tags": []
          },
          "execution_count": 15
        }
      ]
    },
    {
      "cell_type": "markdown",
      "metadata": {
        "id": "h7qMVSPl2eNU"
      },
      "source": [
        "**Visualization**"
      ]
    },
    {
      "cell_type": "code",
      "metadata": {
        "colab": {
          "base_uri": "https://localhost:8080/",
          "height": 281
        },
        "id": "wTdDJOeKHd17",
        "outputId": "875b3dac-3827-456c-b9a0-a8688280f3db"
      },
      "source": [
        "import seaborn as sns\n",
        "import matplotlib.pylab as plt\n",
        "ax = sns.heatmap(pearson_rsa_for_lists_of_reps (mock_data_four), linewidth=0.5, annot = True)\n",
        "ax.set_title('RSA: Pearson')\n",
        "plt.show()"
      ],
      "execution_count": 7,
      "outputs": [
        {
          "output_type": "display_data",
          "data": {
            "image/png": "[encoded data removed]",
            "text/plain": [
              "<Figure size 432x288 with 2 Axes>"
            ]
          },
          "metadata": {
            "tags": [],
            "needs_background": "light"
          }
        }
      ]
    },
    {
      "cell_type": "code",
      "metadata": {
        "colab": {
          "base_uri": "https://localhost:8080/",
          "height": 281
        },
        "id": "yU6sfM471lXl",
        "outputId": "782c5c3d-8e5d-4a7c-e99b-b84db18d9927"
      },
      "source": [
        "ax = sns.heatmap(dot_product_rsa_for_lists_of_reps (mock_data_four), linewidth=0.5, annot = True)\n",
        "ax.set_title('RSA: Dot Product')\n",
        "plt.show()"
      ],
      "execution_count": null,
      "outputs": [
        {
          "output_type": "display_data",
          "data": {
            "image/png": "[encoded data removed]",
            "text/plain": [
              "<Figure size 432x288 with 2 Axes>"
            ]
          },
          "metadata": {
            "tags": [],
            "needs_background": "light"
          }
        }
      ]
    },
    {
      "cell_type": "code",
      "metadata": {
        "colab": {
          "base_uri": "https://localhost:8080/",
          "height": 281
        },
        "id": "P4osStcpZ4sK",
        "outputId": "9b89be0b-1d10-48c5-fdab-fc9d4e104d84"
      },
      "source": [
        "ax = sns.heatmap(pearson_rsa_for_lists_of_reps (mock_data), linewidth=0.5, annot = True)\n",
        "ax.set_title('RSA: Random Data below 1')\n",
        "plt.show()"
      ],
      "execution_count": 12,
      "outputs": [
        {
          "output_type": "display_data",
          "data": {
            "image/png": "[encoded data removed]",
            "text/plain": [
              "<Figure size 432x288 with 2 Axes>"
            ]
          },
          "metadata": {
            "tags": [],
            "needs_background": "light"
          }
        }
      ]
    },
    {
      "cell_type": "code",
      "metadata": {
        "colab": {
          "base_uri": "https://localhost:8080/",
          "height": 281
        },
        "id": "9cchNpLpZ9On",
        "outputId": "b1d41588-0352-4fbe-e8ef-6d2216a10e28"
      },
      "source": [
        "ax = sns.heatmap(pearson_rsa_for_lists_of_reps (mock_data_2), linewidth=0.5, annot = True)\n",
        "ax.set_title('RSA: Random Data integers')\n",
        "plt.show()"
      ],
      "execution_count": 13,
      "outputs": [
        {
          "output_type": "display_data",
          "data": {
            "image/png": "[encoded data removed]",
            "text/plain": [
              "<Figure size 432x288 with 2 Axes>"
            ]
          },
          "metadata": {
            "tags": [],
            "needs_background": "light"
          }
        }
      ]
    },
    {
      "cell_type": "code",
      "metadata": {
        "id": "ScTjIj6watkg"
      },
      "source": [
        "random_matrix_int = pearson_rsa_for_lists_of_reps (mock_data_2)\n",
        "random_matric_dec = pearson_rsa_for_lists_of_reps (mock_data)"
      ],
      "execution_count": 15,
      "outputs": []
    },
    {
      "cell_type": "markdown",
      "metadata": {
        "id": "Bm-mSEx1KGrt"
      },
      "source": [
        "**SIGNIFICANCE TESTING**"
      ]
    },
    {
      "cell_type": "code",
      "metadata": {
        "id": "KoFtydSu4AD7"
      },
      "source": [
        "matrix_plot1 = True\n",
        "matrix_plot2 = False\n",
        "bar_plot = False\n",
        "correlations1 = False\n",
        "correlations2 = False\n",
        "pvalues = False\n",
        "no_relabelings = 10000\n",
        "dist_metric = 1\n",
        "output_first = True\n",
        "output_second = False\n",
        "scale_to_max = False\n",
        "\n",
        "\n",
        "\n",
        "def get_pvalue(matrix1, matrix2):\n",
        "    \"\"\" Randomize condition labels to test significance \"\"\"\n",
        "\n",
        "    order = list(range(0,len(matrix2)))\n",
        "    dist = np.zeros(no_relabelings)\n",
        "\n",
        "    # First, determine actual correlation\n",
        "    flat1 = matrix1.flatten().transpose()\n",
        "    flat2 = matrix2.flatten().transpose()\n",
        "    corr = spearmanr(flat1,flat2)[0]\n",
        "\n",
        "    # Relabel N times to obtain distribution of correlations\n",
        "    for i in range(0,no_relabelings):\n",
        "        np.random.shuffle(order)\n",
        "        dummy = matrix2.take(order, axis=1).take(order, axis=0)\n",
        "        flat2 = dummy.flatten().transpose()\n",
        "        dist[i] = spearmanr(flat1,flat2)[0]\n",
        "\n",
        "    # Determine p value of actual correlation from distribution\n",
        "    p = float((dist >= corr).sum()) / len(dist)\n",
        "\n",
        "    # Mit dieser Methode braucht man mindestens 4 conditions, also 4!=24 mögliche\n",
        "    # Reihenfolgen um auf p < 0.05 zu kommen. Nicht gut!\n",
        "\n",
        "    return p\n",
        "\n",
        "def bootstrap(data):\n",
        "    \"\"\" computes the variability of the obtained second-order RDM (i.e. distance\n",
        "    between areas, models, ...) for the same experiment with different stimuli\n",
        "    by bootstrapping 100 times from the condition set. \"\"\"\n",
        "\n",
        "    all_RDMs = list()\n",
        "\n",
        "    # Iterate through 100 resamplings\n",
        "    for ind in range(100):\n",
        "        index = np.random.random_integers(0, high=len(data[0].T)-1, size=(1,len(data[0].T)))[0]\n",
        "        new_data = np.array(data)\n",
        "        # Reorder columns in data (conditions)\n",
        "        for elem in range(len(data)):\n",
        "            new_data[elem] = new_data[elem][:,index]\n",
        "        # Recompute first and second-order RDMs with new conditions\n",
        "        new_RDM1 = first_order_rdm(list(new_data))\n",
        "        new_RDM2 = second_order_rdm(new_RDM1, data, False)[0]\n",
        "        # Remove off-diagonal zeros to avoid artefactually small standard deviations\n",
        "        m_index = [new_RDM2 == 0]\n",
        "        ident = np.invert(np.identity(len(new_RDM2), dtype=bool))\n",
        "        m_index = m_index & ident\n",
        "        new_RDM2[m_index[0]] = np.nan\n",
        "\n",
        "        all_RDMs.append(new_RDM2)\n",
        "\n",
        "    all_RDMs = np.array(all_RDMs)\n",
        "\n",
        "    # Compute standard deviation along first dimension (across RDMs)\n",
        "    variability = np.nanstd(all_RDMs,0)"
      ],
      "execution_count": 41,
      "outputs": []
    },
    {
      "cell_type": "code",
      "metadata": {
        "colab": {
          "base_uri": "https://localhost:8080/"
        },
        "id": "nnBy5FxBbDAg",
        "outputId": "7c226132-1e7d-4f49-f1a1-470cf31e7970"
      },
      "source": [
        "get_pvalue(random_matrix_int, random_matric_dec)"
      ],
      "execution_count": 42,
      "outputs": [
        {
          "output_type": "execute_result",
          "data": {
            "text/plain": [
              "0.1671"
            ]
          },
          "metadata": {
            "tags": []
          },
          "execution_count": 42
        }
      ]
    },
    {
      "cell_type": "code",
      "metadata": {
        "id": "mqLVzRgdhLJW"
      },
      "source": [
        ""
      ],
      "execution_count": null,
      "outputs": []
    }
  ]
}